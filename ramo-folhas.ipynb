{
 "cells": [
  {
   "cell_type": "code",
   "execution_count": 11,
   "metadata": {},
   "outputs": [
    {
     "name": "stdout",
     "output_type": "stream",
     "text": [
      "\n",
      "\n",
      "==================Ramo e folhas===================\n",
      "\n",
      "  4 | 7 7 \n",
      "  5 | 1 2 5 5 6 7 7 7 8 9 \n",
      "  6 | 1 1 1 1 1 2 2 2 2 2 2 2 2 2 3 3 3 3 3 4 4 4 4 4 4 5 6 6 6 6 7 7 7 7 7 8 9 9 9 9 9 9 9 9 \n",
      "  7 | 0 0 1 2 2 2 3 3 4 4 4 5 5 6 6 7 7 7 7 7 8 8 8 8 8 9 9 9 9 9 9 9 9 \n",
      "  8 | 0 1 2 3 3 4 5 5 6 7 8 9 9 9 \n",
      "  9 | 0 1 1 4 5 5 7 \n",
      " 10 | 1 3 3 3 8 \n",
      " 11 | 4 6 9 \n",
      " 12 | 0 5 "
     ]
    }
   ],
   "source": [
    "import pandas as pd\n",
    "from math import trunc\n",
    "\n",
    "dados = pd.read_excel('Dados_EB.xls', sheet_name='CD-Poluicao', header=8)\n",
    "\n",
    "lista = list(dados['CO'])\n",
    "lista.sort()\n",
    "\n",
    "# Lista para armazenar a parte inteira dos números\n",
    "lint = []  \n",
    "\n",
    "print('\\n')\n",
    "print('{:=^50}'.format('Ramo e Folhas'))\n",
    "\n",
    "for i in range(len(lista)):\n",
    "\n",
    "    decimal = lista[i] % int(lista[i])  # Parte decimal do número\n",
    "    inte = trunc(lista[i])\n",
    "    dec = format(decimal, '.2f')\n",
    "\n",
    "    if inte not in lint:\n",
    "        \n",
    "        print('')  # String vazia, para separar cada 'classe'\n",
    "        print(f'{inte:>3}', '|', end=' ')  # Parte inteira\n",
    "        lint.append(inte)\n",
    "    print(f'{str(dec)[2:3]}', end=' ')  # Parte decimal da 'classe'"
   ]
  }
 ],
 "metadata": {
  "interpreter": {
   "hash": "1bd42b41061a32d8f798a6eb393807ed3b0482cce8d95b86bba49452f332093a"
  },
  "kernelspec": {
   "display_name": "Python 3.9.11 ('base')",
   "language": "python",
   "name": "python3"
  },
  "language_info": {
   "name": "python",
   "version": "3.9.11"
  },
  "orig_nbformat": 4
 },
 "nbformat": 4,
 "nbformat_minor": 2
}
